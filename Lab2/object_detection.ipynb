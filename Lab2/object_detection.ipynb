{
  "cells": [
    {
      "cell_type": "code",
      "execution_count": null,
      "metadata": {
        "colab": {
          "base_uri": "https://localhost:8080/"
        },
        "id": "644beJ-0-XKy",
        "outputId": "26678f05-d979-4516-df8e-4575c28590ed"
      },
      "outputs": [
        {
          "output_type": "stream",
          "name": "stdout",
          "text": [
            "Looking in indexes: https://pypi.org/simple, https://us-python.pkg.dev/colab-wheels/public/simple/\n",
            "Requirement already satisfied: tensorflow==2.4.0 in /usr/local/lib/python3.7/dist-packages (2.4.0)\n",
            "Requirement already satisfied: termcolor~=1.1.0 in /usr/local/lib/python3.7/dist-packages (from tensorflow==2.4.0) (1.1.0)\n",
            "Requirement already satisfied: wheel~=0.35 in /usr/local/lib/python3.7/dist-packages (from tensorflow==2.4.0) (0.38.4)\n",
            "Requirement already satisfied: google-pasta~=0.2 in /usr/local/lib/python3.7/dist-packages (from tensorflow==2.4.0) (0.2.0)\n",
            "Requirement already satisfied: six~=1.15.0 in /usr/local/lib/python3.7/dist-packages (from tensorflow==2.4.0) (1.15.0)\n",
            "Requirement already satisfied: absl-py~=0.10 in /usr/local/lib/python3.7/dist-packages (from tensorflow==2.4.0) (0.15.0)\n",
            "Requirement already satisfied: grpcio~=1.32.0 in /usr/local/lib/python3.7/dist-packages (from tensorflow==2.4.0) (1.32.0)\n",
            "Requirement already satisfied: flatbuffers~=1.12.0 in /usr/local/lib/python3.7/dist-packages (from tensorflow==2.4.0) (1.12)\n",
            "Requirement already satisfied: keras-preprocessing~=1.1.2 in /usr/local/lib/python3.7/dist-packages (from tensorflow==2.4.0) (1.1.2)\n",
            "Requirement already satisfied: astunparse~=1.6.3 in /usr/local/lib/python3.7/dist-packages (from tensorflow==2.4.0) (1.6.3)\n",
            "Requirement already satisfied: numpy~=1.19.2 in /usr/local/lib/python3.7/dist-packages (from tensorflow==2.4.0) (1.19.3)\n",
            "Requirement already satisfied: protobuf>=3.9.2 in /usr/local/lib/python3.7/dist-packages (from tensorflow==2.4.0) (3.19.6)\n",
            "Requirement already satisfied: opt-einsum~=3.3.0 in /usr/local/lib/python3.7/dist-packages (from tensorflow==2.4.0) (3.3.0)\n",
            "Requirement already satisfied: wrapt~=1.12.1 in /usr/local/lib/python3.7/dist-packages (from tensorflow==2.4.0) (1.12.1)\n",
            "Requirement already satisfied: tensorboard~=2.4 in /usr/local/lib/python3.7/dist-packages (from tensorflow==2.4.0) (2.9.1)\n",
            "Requirement already satisfied: h5py~=2.10.0 in /usr/local/lib/python3.7/dist-packages (from tensorflow==2.4.0) (2.10.0)\n",
            "Requirement already satisfied: typing-extensions~=3.7.4 in /usr/local/lib/python3.7/dist-packages (from tensorflow==2.4.0) (3.7.4.3)\n",
            "Requirement already satisfied: gast==0.3.3 in /usr/local/lib/python3.7/dist-packages (from tensorflow==2.4.0) (0.3.3)\n",
            "Requirement already satisfied: tensorflow-estimator<2.5.0,>=2.4.0rc0 in /usr/local/lib/python3.7/dist-packages (from tensorflow==2.4.0) (2.4.0)\n",
            "Requirement already satisfied: setuptools>=41.0.0 in /usr/local/lib/python3.7/dist-packages (from tensorboard~=2.4->tensorflow==2.4.0) (57.4.0)\n",
            "Requirement already satisfied: google-auth<3,>=1.6.3 in /usr/local/lib/python3.7/dist-packages (from tensorboard~=2.4->tensorflow==2.4.0) (2.14.1)\n",
            "Requirement already satisfied: tensorboard-data-server<0.7.0,>=0.6.0 in /usr/local/lib/python3.7/dist-packages (from tensorboard~=2.4->tensorflow==2.4.0) (0.6.1)\n",
            "Requirement already satisfied: tensorboard-plugin-wit>=1.6.0 in /usr/local/lib/python3.7/dist-packages (from tensorboard~=2.4->tensorflow==2.4.0) (1.8.1)\n",
            "Requirement already satisfied: werkzeug>=1.0.1 in /usr/local/lib/python3.7/dist-packages (from tensorboard~=2.4->tensorflow==2.4.0) (1.0.1)\n",
            "Requirement already satisfied: markdown>=2.6.8 in /usr/local/lib/python3.7/dist-packages (from tensorboard~=2.4->tensorflow==2.4.0) (3.4.1)\n",
            "Requirement already satisfied: requests<3,>=2.21.0 in /usr/local/lib/python3.7/dist-packages (from tensorboard~=2.4->tensorflow==2.4.0) (2.23.0)\n",
            "Requirement already satisfied: google-auth-oauthlib<0.5,>=0.4.1 in /usr/local/lib/python3.7/dist-packages (from tensorboard~=2.4->tensorflow==2.4.0) (0.4.6)\n",
            "Requirement already satisfied: pyasn1-modules>=0.2.1 in /usr/local/lib/python3.7/dist-packages (from google-auth<3,>=1.6.3->tensorboard~=2.4->tensorflow==2.4.0) (0.2.8)\n",
            "Requirement already satisfied: rsa<5,>=3.1.4 in /usr/local/lib/python3.7/dist-packages (from google-auth<3,>=1.6.3->tensorboard~=2.4->tensorflow==2.4.0) (4.9)\n",
            "Requirement already satisfied: cachetools<6.0,>=2.0.0 in /usr/local/lib/python3.7/dist-packages (from google-auth<3,>=1.6.3->tensorboard~=2.4->tensorflow==2.4.0) (5.2.0)\n",
            "Requirement already satisfied: requests-oauthlib>=0.7.0 in /usr/local/lib/python3.7/dist-packages (from google-auth-oauthlib<0.5,>=0.4.1->tensorboard~=2.4->tensorflow==2.4.0) (1.3.1)\n",
            "Requirement already satisfied: importlib-metadata>=4.4 in /usr/local/lib/python3.7/dist-packages (from markdown>=2.6.8->tensorboard~=2.4->tensorflow==2.4.0) (4.13.0)\n",
            "Requirement already satisfied: zipp>=0.5 in /usr/local/lib/python3.7/dist-packages (from importlib-metadata>=4.4->markdown>=2.6.8->tensorboard~=2.4->tensorflow==2.4.0) (3.10.0)\n",
            "Requirement already satisfied: pyasn1<0.5.0,>=0.4.6 in /usr/local/lib/python3.7/dist-packages (from pyasn1-modules>=0.2.1->google-auth<3,>=1.6.3->tensorboard~=2.4->tensorflow==2.4.0) (0.4.8)\n",
            "Requirement already satisfied: idna<3,>=2.5 in /usr/local/lib/python3.7/dist-packages (from requests<3,>=2.21.0->tensorboard~=2.4->tensorflow==2.4.0) (2.10)\n",
            "Requirement already satisfied: chardet<4,>=3.0.2 in /usr/local/lib/python3.7/dist-packages (from requests<3,>=2.21.0->tensorboard~=2.4->tensorflow==2.4.0) (3.0.4)\n",
            "Requirement already satisfied: urllib3!=1.25.0,!=1.25.1,<1.26,>=1.21.1 in /usr/local/lib/python3.7/dist-packages (from requests<3,>=2.21.0->tensorboard~=2.4->tensorflow==2.4.0) (1.24.3)\n",
            "Requirement already satisfied: certifi>=2017.4.17 in /usr/local/lib/python3.7/dist-packages (from requests<3,>=2.21.0->tensorboard~=2.4->tensorflow==2.4.0) (2022.9.24)\n",
            "Requirement already satisfied: oauthlib>=3.0.0 in /usr/local/lib/python3.7/dist-packages (from requests-oauthlib>=0.7.0->google-auth-oauthlib<0.5,>=0.4.1->tensorboard~=2.4->tensorflow==2.4.0) (3.2.2)\n"
          ]
        }
      ],
      "source": [
        "pip install tensorflow==2.4.0\n"
      ]
    },
    {
      "cell_type": "code",
      "source": [
        "pip install tensorflow-gpu==2.4.0\n"
      ],
      "metadata": {
        "colab": {
          "base_uri": "https://localhost:8080/"
        },
        "id": "wBWLxRxp7Fl2",
        "outputId": "681e5621-76e3-4b74-d843-06b4b27d7964"
      },
      "execution_count": null,
      "outputs": [
        {
          "output_type": "stream",
          "name": "stdout",
          "text": [
            "Looking in indexes: https://pypi.org/simple, https://us-python.pkg.dev/colab-wheels/public/simple/\n",
            "Requirement already satisfied: tensorflow-gpu==2.4.0 in /usr/local/lib/python3.7/dist-packages (2.4.0)\n",
            "Requirement already satisfied: termcolor~=1.1.0 in /usr/local/lib/python3.7/dist-packages (from tensorflow-gpu==2.4.0) (1.1.0)\n",
            "Requirement already satisfied: wheel~=0.35 in /usr/local/lib/python3.7/dist-packages (from tensorflow-gpu==2.4.0) (0.38.4)\n",
            "Requirement already satisfied: astunparse~=1.6.3 in /usr/local/lib/python3.7/dist-packages (from tensorflow-gpu==2.4.0) (1.6.3)\n",
            "Requirement already satisfied: keras-preprocessing~=1.1.2 in /usr/local/lib/python3.7/dist-packages (from tensorflow-gpu==2.4.0) (1.1.2)\n",
            "Requirement already satisfied: wrapt~=1.12.1 in /usr/local/lib/python3.7/dist-packages (from tensorflow-gpu==2.4.0) (1.12.1)\n",
            "Requirement already satisfied: grpcio~=1.32.0 in /usr/local/lib/python3.7/dist-packages (from tensorflow-gpu==2.4.0) (1.32.0)\n",
            "Requirement already satisfied: numpy~=1.19.2 in /usr/local/lib/python3.7/dist-packages (from tensorflow-gpu==2.4.0) (1.19.3)\n",
            "Requirement already satisfied: tensorflow-estimator<2.5.0,>=2.4.0rc0 in /usr/local/lib/python3.7/dist-packages (from tensorflow-gpu==2.4.0) (2.4.0)\n",
            "Requirement already satisfied: six~=1.15.0 in /usr/local/lib/python3.7/dist-packages (from tensorflow-gpu==2.4.0) (1.15.0)\n",
            "Requirement already satisfied: typing-extensions~=3.7.4 in /usr/local/lib/python3.7/dist-packages (from tensorflow-gpu==2.4.0) (3.7.4.3)\n",
            "Requirement already satisfied: tensorboard~=2.4 in /usr/local/lib/python3.7/dist-packages (from tensorflow-gpu==2.4.0) (2.9.1)\n",
            "Requirement already satisfied: gast==0.3.3 in /usr/local/lib/python3.7/dist-packages (from tensorflow-gpu==2.4.0) (0.3.3)\n",
            "Requirement already satisfied: opt-einsum~=3.3.0 in /usr/local/lib/python3.7/dist-packages (from tensorflow-gpu==2.4.0) (3.3.0)\n",
            "Requirement already satisfied: absl-py~=0.10 in /usr/local/lib/python3.7/dist-packages (from tensorflow-gpu==2.4.0) (0.15.0)\n",
            "Requirement already satisfied: protobuf>=3.9.2 in /usr/local/lib/python3.7/dist-packages (from tensorflow-gpu==2.4.0) (3.19.6)\n",
            "Requirement already satisfied: flatbuffers~=1.12.0 in /usr/local/lib/python3.7/dist-packages (from tensorflow-gpu==2.4.0) (1.12)\n",
            "Requirement already satisfied: h5py~=2.10.0 in /usr/local/lib/python3.7/dist-packages (from tensorflow-gpu==2.4.0) (2.10.0)\n",
            "Requirement already satisfied: google-pasta~=0.2 in /usr/local/lib/python3.7/dist-packages (from tensorflow-gpu==2.4.0) (0.2.0)\n",
            "Requirement already satisfied: google-auth<3,>=1.6.3 in /usr/local/lib/python3.7/dist-packages (from tensorboard~=2.4->tensorflow-gpu==2.4.0) (2.14.1)\n",
            "Requirement already satisfied: requests<3,>=2.21.0 in /usr/local/lib/python3.7/dist-packages (from tensorboard~=2.4->tensorflow-gpu==2.4.0) (2.23.0)\n",
            "Requirement already satisfied: tensorboard-data-server<0.7.0,>=0.6.0 in /usr/local/lib/python3.7/dist-packages (from tensorboard~=2.4->tensorflow-gpu==2.4.0) (0.6.1)\n",
            "Requirement already satisfied: markdown>=2.6.8 in /usr/local/lib/python3.7/dist-packages (from tensorboard~=2.4->tensorflow-gpu==2.4.0) (3.4.1)\n",
            "Requirement already satisfied: google-auth-oauthlib<0.5,>=0.4.1 in /usr/local/lib/python3.7/dist-packages (from tensorboard~=2.4->tensorflow-gpu==2.4.0) (0.4.6)\n",
            "Requirement already satisfied: setuptools>=41.0.0 in /usr/local/lib/python3.7/dist-packages (from tensorboard~=2.4->tensorflow-gpu==2.4.0) (57.4.0)\n",
            "Requirement already satisfied: tensorboard-plugin-wit>=1.6.0 in /usr/local/lib/python3.7/dist-packages (from tensorboard~=2.4->tensorflow-gpu==2.4.0) (1.8.1)\n",
            "Requirement already satisfied: werkzeug>=1.0.1 in /usr/local/lib/python3.7/dist-packages (from tensorboard~=2.4->tensorflow-gpu==2.4.0) (1.0.1)\n",
            "Requirement already satisfied: rsa<5,>=3.1.4 in /usr/local/lib/python3.7/dist-packages (from google-auth<3,>=1.6.3->tensorboard~=2.4->tensorflow-gpu==2.4.0) (4.9)\n",
            "Requirement already satisfied: pyasn1-modules>=0.2.1 in /usr/local/lib/python3.7/dist-packages (from google-auth<3,>=1.6.3->tensorboard~=2.4->tensorflow-gpu==2.4.0) (0.2.8)\n",
            "Requirement already satisfied: cachetools<6.0,>=2.0.0 in /usr/local/lib/python3.7/dist-packages (from google-auth<3,>=1.6.3->tensorboard~=2.4->tensorflow-gpu==2.4.0) (5.2.0)\n",
            "Requirement already satisfied: requests-oauthlib>=0.7.0 in /usr/local/lib/python3.7/dist-packages (from google-auth-oauthlib<0.5,>=0.4.1->tensorboard~=2.4->tensorflow-gpu==2.4.0) (1.3.1)\n",
            "Requirement already satisfied: importlib-metadata>=4.4 in /usr/local/lib/python3.7/dist-packages (from markdown>=2.6.8->tensorboard~=2.4->tensorflow-gpu==2.4.0) (4.13.0)\n",
            "Requirement already satisfied: zipp>=0.5 in /usr/local/lib/python3.7/dist-packages (from importlib-metadata>=4.4->markdown>=2.6.8->tensorboard~=2.4->tensorflow-gpu==2.4.0) (3.10.0)\n",
            "Requirement already satisfied: pyasn1<0.5.0,>=0.4.6 in /usr/local/lib/python3.7/dist-packages (from pyasn1-modules>=0.2.1->google-auth<3,>=1.6.3->tensorboard~=2.4->tensorflow-gpu==2.4.0) (0.4.8)\n",
            "Requirement already satisfied: chardet<4,>=3.0.2 in /usr/local/lib/python3.7/dist-packages (from requests<3,>=2.21.0->tensorboard~=2.4->tensorflow-gpu==2.4.0) (3.0.4)\n",
            "Requirement already satisfied: idna<3,>=2.5 in /usr/local/lib/python3.7/dist-packages (from requests<3,>=2.21.0->tensorboard~=2.4->tensorflow-gpu==2.4.0) (2.10)\n",
            "Requirement already satisfied: urllib3!=1.25.0,!=1.25.1,<1.26,>=1.21.1 in /usr/local/lib/python3.7/dist-packages (from requests<3,>=2.21.0->tensorboard~=2.4->tensorflow-gpu==2.4.0) (1.24.3)\n",
            "Requirement already satisfied: certifi>=2017.4.17 in /usr/local/lib/python3.7/dist-packages (from requests<3,>=2.21.0->tensorboard~=2.4->tensorflow-gpu==2.4.0) (2022.9.24)\n",
            "Requirement already satisfied: oauthlib>=3.0.0 in /usr/local/lib/python3.7/dist-packages (from requests-oauthlib>=0.7.0->google-auth-oauthlib<0.5,>=0.4.1->tensorboard~=2.4->tensorflow-gpu==2.4.0) (3.2.2)\n"
          ]
        }
      ]
    },
    {
      "cell_type": "code",
      "execution_count": null,
      "metadata": {
        "colab": {
          "base_uri": "https://localhost:8080/"
        },
        "id": "Wix0KnCk-sXR",
        "outputId": "8c0e1e33-d51e-43bf-ad4a-8bb697488682"
      },
      "outputs": [
        {
          "output_type": "stream",
          "name": "stdout",
          "text": [
            "Looking in indexes: https://pypi.org/simple, https://us-python.pkg.dev/colab-wheels/public/simple/\n",
            "Requirement already satisfied: keras==2.4.3 in /usr/local/lib/python3.7/dist-packages (2.4.3)\n",
            "Requirement already satisfied: numpy==1.19.3 in /usr/local/lib/python3.7/dist-packages (1.19.3)\n",
            "Requirement already satisfied: pillow==7.0.0 in /usr/local/lib/python3.7/dist-packages (7.0.0)\n",
            "Requirement already satisfied: scipy==1.4.1 in /usr/local/lib/python3.7/dist-packages (1.4.1)\n",
            "Requirement already satisfied: h5py==2.10.0 in /usr/local/lib/python3.7/dist-packages (2.10.0)\n",
            "Requirement already satisfied: matplotlib==3.3.2 in /usr/local/lib/python3.7/dist-packages (3.3.2)\n",
            "Requirement already satisfied: opencv-python in /usr/local/lib/python3.7/dist-packages (4.6.0.66)\n",
            "Requirement already satisfied: keras-resnet==0.2.0 in /usr/local/lib/python3.7/dist-packages (0.2.0)\n",
            "Requirement already satisfied: pyyaml in /usr/local/lib/python3.7/dist-packages (from keras==2.4.3) (6.0)\n",
            "Requirement already satisfied: six in /usr/local/lib/python3.7/dist-packages (from h5py==2.10.0) (1.15.0)\n",
            "Requirement already satisfied: certifi>=2020.06.20 in /usr/local/lib/python3.7/dist-packages (from matplotlib==3.3.2) (2022.9.24)\n",
            "Requirement already satisfied: python-dateutil>=2.1 in /usr/local/lib/python3.7/dist-packages (from matplotlib==3.3.2) (2.8.2)\n",
            "Requirement already satisfied: pyparsing!=2.0.4,!=2.1.2,!=2.1.6,>=2.0.3 in /usr/local/lib/python3.7/dist-packages (from matplotlib==3.3.2) (3.0.9)\n",
            "Requirement already satisfied: kiwisolver>=1.0.1 in /usr/local/lib/python3.7/dist-packages (from matplotlib==3.3.2) (1.4.4)\n",
            "Requirement already satisfied: cycler>=0.10 in /usr/local/lib/python3.7/dist-packages (from matplotlib==3.3.2) (0.11.0)\n",
            "Requirement already satisfied: typing-extensions in /usr/local/lib/python3.7/dist-packages (from kiwisolver>=1.0.1->matplotlib==3.3.2) (3.7.4.3)\n"
          ]
        }
      ],
      "source": [
        "pip install keras==2.4.3 numpy==1.19.3 pillow==7.0.0 scipy==1.4.1 h5py==2.10.0 matplotlib==3.3.2 opencv-python keras-resnet==0.2.0\n"
      ]
    },
    {
      "cell_type": "code",
      "execution_count": null,
      "metadata": {
        "id": "OyTmYHfV_ffg"
      },
      "outputs": [],
      "source": [
        "from imageai.Classification import ImageClassification\n",
        "import os"
      ]
    },
    {
      "cell_type": "code",
      "execution_count": null,
      "metadata": {
        "id": "MLUXRwcH_3Rz"
      },
      "outputs": [],
      "source": [
        "execution_path = os.getcwd()\n"
      ]
    },
    {
      "cell_type": "code",
      "source": [],
      "metadata": {
        "id": "F4rCb-QV0IVB"
      },
      "execution_count": null,
      "outputs": []
    },
    {
      "cell_type": "code",
      "execution_count": null,
      "metadata": {
        "colab": {
          "base_uri": "https://localhost:8080/"
        },
        "id": "OzvYaoCK7gxS",
        "outputId": "470e75ff-a247-4c22-ead4-52ccdbb71c7e"
      },
      "outputs": [
        {
          "output_type": "stream",
          "name": "stdout",
          "text": [
            "Drive already mounted at /content/drive; to attempt to forcibly remount, call drive.mount(\"/content/drive\", force_remount=True).\n"
          ]
        }
      ],
      "source": [
        "from google.colab import drive\n",
        "drive.mount('/content/drive')"
      ]
    },
    {
      "cell_type": "code",
      "source": [
        "execution_path"
      ],
      "metadata": {
        "colab": {
          "base_uri": "https://localhost:8080/",
          "height": 36
        },
        "id": "qMljvjaCzdCX",
        "outputId": "5af1f3db-720f-4cbb-d28c-4071bc2eff41"
      },
      "execution_count": null,
      "outputs": [
        {
          "output_type": "execute_result",
          "data": {
            "text/plain": [
              "'/content'"
            ],
            "application/vnd.google.colaboratory.intrinsic+json": {
              "type": "string"
            }
          },
          "metadata": {},
          "execution_count": 7
        }
      ]
    },
    {
      "cell_type": "code",
      "execution_count": null,
      "metadata": {
        "id": "Txzj8s0jAS0y"
      },
      "outputs": [],
      "source": [
        "prediction = ImageClassification()\n",
        "prediction.setModelTypeAsResNet50()\n",
        "prediction.setModelPath(os.path.join(execution_path,'drive/' ,\"retinanet.h5\"))"
      ]
    },
    {
      "cell_type": "code",
      "execution_count": null,
      "metadata": {
        "colab": {
          "base_uri": "https://localhost:8080/",
          "height": 470
        },
        "id": "xEmbtaGeAV0M",
        "outputId": "fe79c70f-9818-457a-f674-c58a2650c9ab"
      },
      "outputs": [
        {
          "output_type": "stream",
          "name": "stdout",
          "text": [
            "Looking in indexes: https://pypi.org/simple, https://us-python.pkg.dev/colab-wheels/public/simple/\n",
            "Collecting numpy==1.19.5\n",
            "  Using cached numpy-1.19.5-cp37-cp37m-manylinux2010_x86_64.whl (14.8 MB)\n",
            "Installing collected packages: numpy\n",
            "  Attempting uninstall: numpy\n",
            "    Found existing installation: numpy 1.19.3\n",
            "    Uninstalling numpy-1.19.3:\n",
            "      Successfully uninstalled numpy-1.19.3\n",
            "\u001b[31mERROR: pip's dependency resolver does not currently take into account all the packages that are installed. This behaviour is the source of the following dependency conflicts.\n",
            "xarray-einstats 0.2.2 requires numpy>=1.21, but you have numpy 1.19.5 which is incompatible.\n",
            "plotnine 0.8.0 requires scipy>=1.5.0, but you have scipy 1.4.1 which is incompatible.\n",
            "jaxlib 0.3.25+cuda11.cudnn805 requires numpy>=1.20, but you have numpy 1.19.5 which is incompatible.\n",
            "jaxlib 0.3.25+cuda11.cudnn805 requires scipy>=1.5, but you have scipy 1.4.1 which is incompatible.\n",
            "jax 0.3.25 requires numpy>=1.20, but you have numpy 1.19.5 which is incompatible.\n",
            "jax 0.3.25 requires scipy>=1.5, but you have scipy 1.4.1 which is incompatible.\n",
            "imageai 2.1.6 requires numpy==1.19.3, but you have numpy 1.19.5 which is incompatible.\n",
            "imageai 2.1.6 requires pillow==7.0.0, but you have pillow 8.1.1 which is incompatible.\n",
            "google-cloud-bigquery 3.3.6 requires grpcio<2.0dev,>=1.47.0, but you have grpcio 1.32.0 which is incompatible.\n",
            "cmdstanpy 1.0.8 requires numpy>=1.21, but you have numpy 1.19.5 which is incompatible.\u001b[0m\n",
            "Successfully installed numpy-1.19.5\n"
          ]
        },
        {
          "output_type": "display_data",
          "data": {
            "application/vnd.colab-display-data+json": {
              "pip_warning": {
                "packages": [
                  "numpy"
                ]
              }
            }
          },
          "metadata": {}
        }
      ],
      "source": [
        "pip install numpy==1.19.5\n"
      ]
    },
    {
      "cell_type": "code",
      "execution_count": null,
      "metadata": {
        "colab": {
          "base_uri": "https://localhost:8080/",
          "height": 235
        },
        "id": "8WdnaVXaAcHM",
        "outputId": "8aaee00a-19c8-477c-c063-dd996930104e"
      },
      "outputs": [
        {
          "output_type": "error",
          "ename": "NameError",
          "evalue": "ignored",
          "traceback": [
            "\u001b[0;31m---------------------------------------------------------------------------\u001b[0m",
            "\u001b[0;31mNameError\u001b[0m                                 Traceback (most recent call last)",
            "\u001b[0;32m<ipython-input-5-4c0be5106214>\u001b[0m in \u001b[0;36m<module>\u001b[0;34m\u001b[0m\n\u001b[0;32m----> 1\u001b[0;31m \u001b[0mexecution_path\u001b[0m \u001b[0;34m=\u001b[0m \u001b[0mos\u001b[0m\u001b[0;34m.\u001b[0m\u001b[0mgetcwd\u001b[0m\u001b[0;34m(\u001b[0m\u001b[0;34m)\u001b[0m\u001b[0;34m\u001b[0m\u001b[0;34m\u001b[0m\u001b[0m\n\u001b[0m\u001b[1;32m      2\u001b[0m \u001b[0;34m\u001b[0m\u001b[0m\n\u001b[1;32m      3\u001b[0m \u001b[0mprediction\u001b[0m \u001b[0;34m=\u001b[0m \u001b[0mImageClassification\u001b[0m\u001b[0;34m(\u001b[0m\u001b[0;34m)\u001b[0m\u001b[0;34m\u001b[0m\u001b[0;34m\u001b[0m\u001b[0m\n\u001b[1;32m      4\u001b[0m \u001b[0mprediction\u001b[0m\u001b[0;34m.\u001b[0m\u001b[0msetModelTypeAsDenseNet\u001b[0m\u001b[0;34m(\u001b[0m\u001b[0;34m)\u001b[0m\u001b[0;34m\u001b[0m\u001b[0;34m\u001b[0m\u001b[0m\n\u001b[1;32m      5\u001b[0m \u001b[0mprediction\u001b[0m\u001b[0;34m.\u001b[0m\u001b[0msetModelPath\u001b[0m\u001b[0;34m(\u001b[0m\u001b[0mos\u001b[0m\u001b[0;34m.\u001b[0m\u001b[0mpath\u001b[0m\u001b[0;34m.\u001b[0m\u001b[0mjoin\u001b[0m\u001b[0;34m(\u001b[0m\u001b[0;34m\"DenseNet-BC-121-32.h5\"\u001b[0m\u001b[0;34m)\u001b[0m\u001b[0;34m)\u001b[0m\u001b[0;34m\u001b[0m\u001b[0;34m\u001b[0m\u001b[0m\n",
            "\u001b[0;31mNameError\u001b[0m: name 'os' is not defined"
          ]
        }
      ],
      "source": [
        "execution_path = os.getcwd()\n",
        "\n",
        "prediction = ImageClassification()\n",
        "prediction.setModelTypeAsDenseNet()\n",
        "prediction.setModelPath(os.path.join(\"DenseNet-BC-121-32.h5\"))\n",
        "prediction.loadModel()\n",
        "\n",
        "predictions, probabilities = prediction.classifyImage(os.path.join(execution_path, \"dahmer.jpg\"), result_count=5 )\n",
        "for eachPrediction, eachProbability in zip(predictions, probabilities):\n",
        "    print(eachPrediction , \" : \" , eachProbability)"
      ]
    },
    {
      "cell_type": "code",
      "execution_count": null,
      "metadata": {
        "id": "hw02-k2lE6GF"
      },
      "outputs": [],
      "source": []
    },
    {
      "cell_type": "code",
      "execution_count": null,
      "metadata": {
        "id": "Q9aHffqKFJhs"
      },
      "outputs": [],
      "source": [
        "from imageai.Detection import ObjectDetection\n",
        "import os"
      ]
    },
    {
      "cell_type": "code",
      "execution_count": null,
      "metadata": {
        "colab": {
          "base_uri": "https://localhost:8080/"
        },
        "id": "JqAjNEB3FQ5Z",
        "outputId": "4dfb03e0-0207-40fa-e36d-c25678e89561"
      },
      "outputs": [
        {
          "output_type": "stream",
          "name": "stderr",
          "text": [
            "WARNING:tensorflow:No training configuration found in the save file, so the model was *not* compiled. Compile it manually.\n",
            "WARNING:tensorflow:7 out of the last 7 calls to <function Model.make_predict_function.<locals>.predict_function at 0x7fbb7a650710> triggered tf.function retracing. Tracing is expensive and the excessive number of tracings could be due to (1) creating @tf.function repeatedly in a loop, (2) passing tensors with different shapes, (3) passing Python objects instead of tensors. For (1), please define your @tf.function outside of the loop. For (2), @tf.function has experimental_relax_shapes=True option that relaxes argument shapes that can avoid unnecessary retracing. For (3), please refer to https://www.tensorflow.org/guide/function#controlling_retracing and https://www.tensorflow.org/api_docs/python/tf/function for  more details.\n"
          ]
        }
      ],
      "source": [
        "execution_path = os.getcwd()\n",
        "\n",
        "detector = ObjectDetection()\n",
        "detector.setModelTypeAsRetinaNet()\n",
        "detector.setModelPath('/content/drive/MyDrive/IMDB/resnet50.h5')\n",
        "detector.loadModel()\n",
        "detections = detector.detectObjectsFromImage(input_image=os.path.join(\"animation351.jpg\"), output_image_path=os.path.join(execution_path , \"image4new.jpg\"), minimum_percentage_probability=30)\n"
      ]
    },
    {
      "cell_type": "code",
      "execution_count": null,
      "metadata": {
        "colab": {
          "base_uri": "https://localhost:8080/"
        },
        "id": "noF6G6wvF_Zw",
        "outputId": "53193df0-cc65-41a7-d7a5-fd1badd06091"
      },
      "outputs": [
        {
          "output_type": "stream",
          "name": "stdout",
          "text": [
            "bird  :  38.086915016174316  :  [0, 0, 336, 541]\n",
            "--------------------------------\n",
            "bird  :  34.83457267284393  :  [50, 122, 311, 472]\n",
            "--------------------------------\n",
            "scissors  :  33.914563059806824  :  [3, 444, 121, 559]\n",
            "--------------------------------\n"
          ]
        }
      ],
      "source": [
        "for eachObject in detections:\n",
        "    print(eachObject[\"name\"] , \" : \", eachObject[\"percentage_probability\"], \" : \", eachObject[\"box_points\"] )\n",
        "    print(\"--------------------------------\")"
      ]
    },
    {
      "cell_type": "code",
      "execution_count": null,
      "metadata": {
        "colab": {
          "base_uri": "https://localhost:8080/"
        },
        "id": "gtYIimdgGCC5",
        "outputId": "8f81a0b0-9798-4abb-e551-1894e7aeebe6"
      },
      "outputs": [
        {
          "data": {
            "text/plain": [
              "[{'name': 'umbrella',\n",
              "  'percentage_probability': 55.248892307281494,\n",
              "  'box_points': [0, 359, 80, 560]},\n",
              " {'name': 'umbrella',\n",
              "  'percentage_probability': 46.80420160293579,\n",
              "  'box_points': [62, 221, 280, 584]},\n",
              " {'name': 'vase',\n",
              "  'percentage_probability': 33.43120813369751,\n",
              "  'box_points': [84, 222, 275, 584]},\n",
              " {'name': 'umbrella',\n",
              "  'percentage_probability': 33.38780403137207,\n",
              "  'box_points': [23, 511, 110, 578]},\n",
              " {'name': 'tie',\n",
              "  'percentage_probability': 28.210747241973877,\n",
              "  'box_points': [138, 238, 267, 577]},\n",
              " {'name': 'vase',\n",
              "  'percentage_probability': 27.726608514785767,\n",
              "  'box_points': [199, 208, 408, 606]},\n",
              " {'name': 'bird',\n",
              "  'percentage_probability': 26.74003839492798,\n",
              "  'box_points': [84, 222, 275, 584]},\n",
              " {'name': 'umbrella',\n",
              "  'percentage_probability': 25.414186716079712,\n",
              "  'box_points': [209, 205, 411, 612]},\n",
              " {'name': 'umbrella',\n",
              "  'percentage_probability': 24.507656693458557,\n",
              "  'box_points': [3, 226, 452, 682]},\n",
              " {'name': 'scissors',\n",
              "  'percentage_probability': 22.4979430437088,\n",
              "  'box_points': [84, 222, 275, 584]},\n",
              " {'name': 'umbrella',\n",
              "  'percentage_probability': 22.47559130191803,\n",
              "  'box_points': [14, 297, 209, 593]},\n",
              " {'name': 'umbrella',\n",
              "  'percentage_probability': 20.98451256752014,\n",
              "  'box_points': [1, 510, 74, 565]},\n",
              " {'name': 'vase',\n",
              "  'percentage_probability': 20.93866765499115,\n",
              "  'box_points': [190, 235, 302, 576]},\n",
              " {'name': 'umbrella',\n",
              "  'percentage_probability': 20.843255519866943,\n",
              "  'box_points': [9, 355, 149, 569]},\n",
              " {'name': 'vase',\n",
              "  'percentage_probability': 20.4226553440094,\n",
              "  'box_points': [169, 278, 265, 569]},\n",
              " {'name': 'umbrella',\n",
              "  'percentage_probability': 20.139947533607483,\n",
              "  'box_points': [0, 543, 478, 732]},\n",
              " {'name': 'umbrella',\n",
              "  'percentage_probability': 19.946059584617615,\n",
              "  'box_points': [171, 220, 339, 591]},\n",
              " {'name': 'tie',\n",
              "  'percentage_probability': 19.48063373565674,\n",
              "  'box_points': [182, 211, 340, 589]},\n",
              " {'name': 'bird',\n",
              "  'percentage_probability': 19.130602478981018,\n",
              "  'box_points': [268, 381, 351, 617]},\n",
              " {'name': 'umbrella',\n",
              "  'percentage_probability': 18.954956531524658,\n",
              "  'box_points': [0, 323, 358, 567]},\n",
              " {'name': 'frisbee',\n",
              "  'percentage_probability': 18.751659989356995,\n",
              "  'box_points': [58, 230, 275, 588]},\n",
              " {'name': 'book',\n",
              "  'percentage_probability': 18.564599752426147,\n",
              "  'box_points': [84, 222, 275, 584]},\n",
              " {'name': 'handbag',\n",
              "  'percentage_probability': 18.034279346466064,\n",
              "  'box_points': [84, 222, 275, 584]},\n",
              " {'name': 'person',\n",
              "  'percentage_probability': 17.979106307029724,\n",
              "  'box_points': [268, 374, 350, 622]},\n",
              " {'name': 'tie',\n",
              "  'percentage_probability': 17.360323667526245,\n",
              "  'box_points': [198, 252, 291, 569]},\n",
              " {'name': 'umbrella',\n",
              "  'percentage_probability': 17.232900857925415,\n",
              "  'box_points': [169, 278, 265, 569]},\n",
              " {'name': 'bird',\n",
              "  'percentage_probability': 17.04292595386505,\n",
              "  'box_points': [209, 210, 403, 613]},\n",
              " {'name': 'umbrella',\n",
              "  'percentage_probability': 17.039117217063904,\n",
              "  'box_points': [0, 359, 55, 506]},\n",
              " {'name': 'kite',\n",
              "  'percentage_probability': 16.81906282901764,\n",
              "  'box_points': [62, 221, 280, 584]},\n",
              " {'name': 'chair',\n",
              "  'percentage_probability': 16.79702401161194,\n",
              "  'box_points': [84, 222, 275, 584]},\n",
              " {'name': 'cat',\n",
              "  'percentage_probability': 16.58766269683838,\n",
              "  'box_points': [84, 222, 275, 584]},\n",
              " {'name': 'umbrella',\n",
              "  'percentage_probability': 16.545042395591736,\n",
              "  'box_points': [3, 566, 165, 622]},\n",
              " {'name': 'banana',\n",
              "  'percentage_probability': 16.327878832817078,\n",
              "  'box_points': [85, 219, 279, 580]},\n",
              " {'name': 'banana',\n",
              "  'percentage_probability': 15.477845072746277,\n",
              "  'box_points': [181, 210, 422, 603]},\n",
              " {'name': 'kite',\n",
              "  'percentage_probability': 15.294110774993896,\n",
              "  'box_points': [0, 361, 99, 561]},\n",
              " {'name': 'handbag',\n",
              "  'percentage_probability': 15.113505721092224,\n",
              "  'box_points': [38, 223, 376, 631]},\n",
              " {'name': 'umbrella',\n",
              "  'percentage_probability': 14.912834763526917,\n",
              "  'box_points': [0, 493, 69, 516]},\n",
              " {'name': 'bird',\n",
              "  'percentage_probability': 14.055615663528442,\n",
              "  'box_points': [165, 259, 269, 570]},\n",
              " {'name': 'chair',\n",
              "  'percentage_probability': 14.025342464447021,\n",
              "  'box_points': [209, 210, 403, 613]},\n",
              " {'name': 'umbrella',\n",
              "  'percentage_probability': 13.975334167480469,\n",
              "  'box_points': [14, 519, 159, 600]},\n",
              " {'name': 'dog',\n",
              "  'percentage_probability': 13.809499144554138,\n",
              "  'box_points': [269, 381, 354, 616]},\n",
              " {'name': 'umbrella',\n",
              "  'percentage_probability': 13.732266426086426,\n",
              "  'box_points': [268, 341, 372, 610]},\n",
              " {'name': 'kite',\n",
              "  'percentage_probability': 13.602155447006226,\n",
              "  'box_points': [0, 387, 53, 497]},\n",
              " {'name': 'backpack',\n",
              "  'percentage_probability': 13.463547825813293,\n",
              "  'box_points': [96, 227, 283, 585]},\n",
              " {'name': 'dog',\n",
              "  'percentage_probability': 13.3883535861969,\n",
              "  'box_points': [84, 222, 275, 584]},\n",
              " {'name': 'bottle',\n",
              "  'percentage_probability': 13.325634598731995,\n",
              "  'box_points': [150, 241, 271, 577]},\n",
              " {'name': 'potted plant',\n",
              "  'percentage_probability': 13.292264938354492,\n",
              "  'box_points': [84, 222, 275, 584]},\n",
              " {'name': 'teddy bear',\n",
              "  'percentage_probability': 13.259252905845642,\n",
              "  'box_points': [149, 220, 402, 600]},\n",
              " {'name': 'potted plant',\n",
              "  'percentage_probability': 13.211679458618164,\n",
              "  'box_points': [209, 210, 403, 613]},\n",
              " {'name': 'baseball glove',\n",
              "  'percentage_probability': 13.084152340888977,\n",
              "  'box_points': [57, 219, 275, 584]},\n",
              " {'name': 'scissors',\n",
              "  'percentage_probability': 12.785857915878296,\n",
              "  'box_points': [165, 259, 269, 570]},\n",
              " {'name': 'kite',\n",
              "  'percentage_probability': 12.645310163497925,\n",
              "  'box_points': [14, 297, 209, 593]},\n",
              " {'name': 'banana',\n",
              "  'percentage_probability': 12.461838126182556,\n",
              "  'box_points': [165, 259, 269, 570]},\n",
              " {'name': 'banana',\n",
              "  'percentage_probability': 12.388628721237183,\n",
              "  'box_points': [194, 223, 304, 579]},\n",
              " {'name': 'bottle',\n",
              "  'percentage_probability': 12.303760647773743,\n",
              "  'box_points': [194, 223, 304, 579]},\n",
              " {'name': 'kite',\n",
              "  'percentage_probability': 12.227120995521545,\n",
              "  'box_points': [23, 513, 125, 577]},\n",
              " {'name': 'umbrella',\n",
              "  'percentage_probability': 12.208464741706848,\n",
              "  'box_points': [0, 504, 67, 542]},\n",
              " {'name': 'umbrella',\n",
              "  'percentage_probability': 12.186694145202637,\n",
              "  'box_points': [75, 526, 111, 576]},\n",
              " {'name': 'surfboard',\n",
              "  'percentage_probability': 12.145143747329712,\n",
              "  'box_points': [62, 221, 280, 584]},\n",
              " {'name': 'teddy bear',\n",
              "  'percentage_probability': 12.02787458896637,\n",
              "  'box_points': [84, 222, 275, 584]},\n",
              " {'name': 'clock',\n",
              "  'percentage_probability': 11.751848459243774,\n",
              "  'box_points': [84, 222, 275, 584]},\n",
              " {'name': 'umbrella',\n",
              "  'percentage_probability': 11.613917350769043,\n",
              "  'box_points': [205, 278, 294, 564]},\n",
              " {'name': 'umbrella',\n",
              "  'percentage_probability': 11.578994989395142,\n",
              "  'box_points': [332, 542, 490, 622]},\n",
              " {'name': 'toothbrush',\n",
              "  'percentage_probability': 11.406755447387695,\n",
              "  'box_points': [138, 238, 267, 577]},\n",
              " {'name': 'bed',\n",
              "  'percentage_probability': 11.381655931472778,\n",
              "  'box_points': [0, 540, 474, 731]},\n",
              " {'name': 'book',\n",
              "  'percentage_probability': 11.287704110145569,\n",
              "  'box_points': [169, 278, 265, 569]},\n",
              " {'name': 'book',\n",
              "  'percentage_probability': 11.220574378967285,\n",
              "  'box_points': [194, 241, 306, 575]},\n",
              " {'name': 'book',\n",
              "  'percentage_probability': 11.18783950805664,\n",
              "  'box_points': [209, 210, 403, 613]},\n",
              " {'name': 'teddy bear',\n",
              "  'percentage_probability': 11.130285263061523,\n",
              "  'box_points': [268, 380, 352, 619]},\n",
              " {'name': 'cat',\n",
              "  'percentage_probability': 10.881736874580383,\n",
              "  'box_points': [209, 210, 403, 613]},\n",
              " {'name': 'bird',\n",
              "  'percentage_probability': 10.822677612304688,\n",
              "  'box_points': [194, 223, 304, 579]},\n",
              " {'name': 'handbag',\n",
              "  'percentage_probability': 10.717910528182983,\n",
              "  'box_points': [171, 224, 342, 595]},\n",
              " {'name': 'umbrella',\n",
              "  'percentage_probability': 10.712802410125732,\n",
              "  'box_points': [0, 436, 117, 580]},\n",
              " {'name': 'handbag',\n",
              "  'percentage_probability': 10.43497920036316,\n",
              "  'box_points': [169, 278, 265, 569]},\n",
              " {'name': 'scissors',\n",
              "  'percentage_probability': 10.433176159858704,\n",
              "  'box_points': [171, 220, 339, 591]},\n",
              " {'name': 'umbrella',\n",
              "  'percentage_probability': 10.240137577056885,\n",
              "  'box_points': [5, 563, 162, 678]},\n",
              " {'name': 'skateboard',\n",
              "  'percentage_probability': 10.156852006912231,\n",
              "  'box_points': [84, 222, 275, 584]},\n",
              " {'name': 'bicycle',\n",
              "  'percentage_probability': 10.070246458053589,\n",
              "  'box_points': [84, 222, 275, 584]},\n",
              " {'name': 'bottle',\n",
              "  'percentage_probability': 10.052832961082458,\n",
              "  'box_points': [209, 210, 403, 613]}]"
            ]
          },
          "execution_count": 10,
          "metadata": {},
          "output_type": "execute_result"
        }
      ],
      "source": [
        "detections"
      ]
    }
  ],
  "metadata": {
    "colab": {
      "provenance": []
    },
    "kernelspec": {
      "display_name": "Python 3",
      "name": "python3"
    },
    "language_info": {
      "name": "python"
    }
  },
  "nbformat": 4,
  "nbformat_minor": 0
}